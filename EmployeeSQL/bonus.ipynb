{
 "metadata": {
  "language_info": {
   "codemirror_mode": {
    "name": "ipython",
    "version": 3
   },
   "file_extension": ".py",
   "mimetype": "text/x-python",
   "name": "python",
   "nbconvert_exporter": "python",
   "pygments_lexer": "ipython3",
   "version": "3.6.10-final"
  },
  "orig_nbformat": 2,
  "kernelspec": {
   "name": "python3",
   "display_name": "Python 3",
   "language": "python"
  }
 },
 "nbformat": 4,
 "nbformat_minor": 2,
 "cells": [
  {
   "source": [
    "Bonus (Optional)\n",
    "\n",
    "As you examine the data, you are overcome with a creeping suspicion that the dataset is fake. You surmise that your boss handed you spurious data in order to test the data engineering skills of a new employee. To confirm your hunch, you decide to take the following steps to generate a visualization of the data, with which you will confront your boss:\n",
    "\n",
    "\n",
    "Import the SQL database into Pandas. (Yes, you could read the CSVs directly in Pandas, but you are, after all, trying to prove your technical mettle.) This step may require some research. Feel free to use the code below to get started. Be sure to make any necessary modifications for your username, password, host, port, and database name:\n",
    "from sqlalchemy import create_engine\n",
    "engine = create_engine('postgresql://localhost:5432/<your_db_name>')\n",
    "connection = engine.connect()\n",
    "\n",
    "Create a histogram to visualize the most common salary ranges for employees.\n",
    "\n",
    "Create a bar chart of average salary by title."
   ],
   "cell_type": "markdown",
   "metadata": {}
  },
  {
   "cell_type": "code",
   "execution_count": 5,
   "metadata": {},
   "outputs": [
    {
     "output_type": "stream",
     "name": "stdout",
     "text": [
      "Collecting psycopg2\n",
      "  Downloading psycopg2-2.8.6.tar.gz (383 kB)\n",
      "\u001b[K     |████████████████████████████████| 383 kB 5.3 MB/s \n",
      "\u001b[?25hBuilding wheels for collected packages: psycopg2\n",
      "  Building wheel for psycopg2 (setup.py) ... \u001b[?25ldone\n",
      "\u001b[?25h  Created wheel for psycopg2: filename=psycopg2-2.8.6-cp36-cp36m-macosx_10_9_x86_64.whl size=135469 sha256=a5516a2ce37892757b7b11d5185aebb25e39f2a28409a6f665d53000734cf6c0\n",
      "  Stored in directory: /Users/annabelcheong/Library/Caches/pip/wheels/cb/74/1b/4b65077db4eb0d85763050e60c5921398d2858945558352dd8\n",
      "Successfully built psycopg2\n",
      "Installing collected packages: psycopg2\n",
      "Successfully installed psycopg2-2.8.6\n"
     ]
    }
   ],
   "source": [
    "!pip install psycopg2"
   ]
  },
  {
   "cell_type": "code",
   "execution_count": 33,
   "metadata": {},
   "outputs": [],
   "source": [
    "#Dependenies\n",
    "import pandas as pd\n",
    "from sqlalchemy import create_engine\n",
    "import psycopg2\n",
    "import matplotlib.pyplot as plt"
   ]
  },
  {
   "cell_type": "code",
   "execution_count": 28,
   "metadata": {},
   "outputs": [
    {
     "output_type": "execute_result",
     "data": {
      "text/plain": [
       "Engine(postgresql://localhost:5432/workplace_db)"
      ]
     },
     "metadata": {},
     "execution_count": 28
    }
   ],
   "source": [
    "#Create engine and connection\n",
    "engine = create_engine('postgresql://localhost:5432/workplace_db')\n",
    "connection = engine.connect()\n",
    "engine"
   ]
  },
  {
   "cell_type": "code",
   "execution_count": 38,
   "metadata": {},
   "outputs": [
    {
     "output_type": "stream",
     "name": "stdout",
     "text": [
      "emp_no\nsalary\n"
     ]
    }
   ],
   "source": [
    "# Check database is being read\n",
    "# Query All Records in the the Database\n",
    "emp_df = engine.execute(\"SELECT * FROM salaries\")\n",
    "\n",
    "for record in data:\n",
    "    print(record)"
   ]
  },
  {
   "source": [
    "Most Common Salary Ranges\n",
    "\n",
    "-Create a histogram to represent most common salary ranges"
   ],
   "cell_type": "markdown",
   "metadata": {}
  },
  {
   "cell_type": "code",
   "execution_count": 37,
   "metadata": {},
   "outputs": [
    {
     "output_type": "execute_result",
     "data": {
      "text/plain": [
       "              emp_no         salary\n",
       "count  300024.000000  300024.000000\n",
       "mean   253321.763392   52970.732451\n",
       "std    161828.235540   14301.478491\n",
       "min     10001.000000   40000.000000\n",
       "25%     85006.750000   40000.000000\n",
       "50%    249987.500000   48681.000000\n",
       "75%    424993.250000   61758.000000\n",
       "max    499999.000000  129492.000000"
      ],
      "text/html": "<div>\n<style scoped>\n    .dataframe tbody tr th:only-of-type {\n        vertical-align: middle;\n    }\n\n    .dataframe tbody tr th {\n        vertical-align: top;\n    }\n\n    .dataframe thead th {\n        text-align: right;\n    }\n</style>\n<table border=\"1\" class=\"dataframe\">\n  <thead>\n    <tr style=\"text-align: right;\">\n      <th></th>\n      <th>emp_no</th>\n      <th>salary</th>\n    </tr>\n  </thead>\n  <tbody>\n    <tr>\n      <th>count</th>\n      <td>300024.000000</td>\n      <td>300024.000000</td>\n    </tr>\n    <tr>\n      <th>mean</th>\n      <td>253321.763392</td>\n      <td>52970.732451</td>\n    </tr>\n    <tr>\n      <th>std</th>\n      <td>161828.235540</td>\n      <td>14301.478491</td>\n    </tr>\n    <tr>\n      <th>min</th>\n      <td>10001.000000</td>\n      <td>40000.000000</td>\n    </tr>\n    <tr>\n      <th>25%</th>\n      <td>85006.750000</td>\n      <td>40000.000000</td>\n    </tr>\n    <tr>\n      <th>50%</th>\n      <td>249987.500000</td>\n      <td>48681.000000</td>\n    </tr>\n    <tr>\n      <th>75%</th>\n      <td>424993.250000</td>\n      <td>61758.000000</td>\n    </tr>\n    <tr>\n      <th>max</th>\n      <td>499999.000000</td>\n      <td>129492.000000</td>\n    </tr>\n  </tbody>\n</table>\n</div>"
     },
     "metadata": {},
     "execution_count": 37
    }
   ],
   "source": [
    "# Query All Records in the the Database\n",
    "\n",
    "# Query All Records in the the Database\n",
    "salaries_df = pd.read_sql(\"SELECT * FROM salaries\", connection)\n",
    "salaries_df.head()\n",
    "salaries_df.describe()"
   ]
  },
  {
   "cell_type": "code",
   "execution_count": null,
   "metadata": {},
   "outputs": [],
   "source": []
  }
 ]
}